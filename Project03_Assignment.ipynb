{
 "cells": [
  {
   "cell_type": "markdown",
   "id": "cddf5de3-a9f3-4471-bbaf-aca41a70ce89",
   "metadata": {},
   "source": [
    "### INST326 OOP Project 03"
   ]
  },
  {
   "cell_type": "markdown",
   "id": "2bb7f115-9eba-4f29-918e-b016e6a7edc8",
   "metadata": {},
   "source": [
    "### Brendan Maglaqui\n",
    "> INST326 Section 0103  \n",
    "> Group 43    \n",
    "> Project 03  \n",
    "> Due November 22, 2024  \n",
    "#### Honor Pledge\n",
    "> I pledge that the work contained in this assignment is my own, and that I have complied with University and course policies on academic integrity, and AI use."
   ]
  },
  {
   "cell_type": "markdown",
   "id": "8ee05bdb-db2d-41c2-9f23-3af75d058612",
   "metadata": {},
   "source": [
    "### The Project\n",
    "Everyone will do the same project this time. This is a group project, so you must work in your assigned groups. Include the link to your group's GitHub repository (one link per group). Use comments in your code to document your solution. If you need to write comments to the grader, add a markdown cell immediately above your code solution and add your comments there. Be sure to read and follow all the requirements and the Notebook Instructions at the bottom of this notebook. Your grade may depend on it!"
   ]
  },
  {
   "cell_type": "markdown",
   "id": "a1c98e85-2c64-4a03-8309-d91035cca6d2",
   "metadata": {},
   "source": [
    "#### 1. A Scheduling Program\n",
    ">  My wife is responsible for scheduling caregivers for her 93 year-old mother. Currently she writes out the schedule on a monthly calendar and photocopies it for everyone. I want all of you to help me write a program to help her with scheduling. While this is a specific application, this program will be broadly useful and adaptable to any scheduling needs for small businesses, clubs, and more."
   ]
  },
  {
   "cell_type": "markdown",
   "id": "28b28d8a-dbb3-4f15-bbe0-e14504b84876",
   "metadata": {},
   "source": [
    "#### Requirements\n",
    ">  Care is required 12 hours per day, 7 days a week. There are two shifts each day: 7:00 AM - 1:00 PM, and 1:00 PM to 7:00 PM. There are a total of 8 caregivers. Some are family members and some are paid. Each caregiver has their own availability for shifts that is generally the same from month to month, but there are exceptions for work, vacations, and other responsibilities. Your program should do the following:\n",
    "> 1. Manage caregivers and their schedules. Attributes include: name, phone, email, pay rate, and hours.\n",
    "> 2. Each caregiver should have their own availability schedule where they can indicate their availability for each shift. Availability categories are 'preferred', 'available' (default), and 'unavailable'.\n",
    "> 3. Create a care schedule that covers AM and PM shifts and displays caregiver names on a calendar (see example). The schedule should accomodate caregivers' individual schedules and availability preferences. The python calendar module provides options for creating HTML calendars. Sample code for the HTML calendar is in the project folder.\n",
    "> 4. Paid caregivers are paid weekly at $20/hr. Your program should calculate weekly pay based on assigned hours. Provide a separate pay report that lists weekly (gross: hours x rate) amounts to each caregiver, along with weekly and monthly totals. The report can be a text document, or presented in GUI or HTML format. "
   ]
  },
  {
   "cell_type": "markdown",
   "id": "6708f6cf-aac7-430e-947d-6f9c8dd161f6",
   "metadata": {
    "jp-MarkdownHeadingCollapsed": true
   },
   "source": [
    "#### Group Requirements\n",
    ">  1. Your submitted project should follow OOP principles like abstraction, encapsulation, inheritance, and polymorphism as appropriate. Your program should use classes. \n",
    ">  2. Select a group leader who will host the group's project repository on their GitHub.\n",
    ">  3. Create the group repository and add a main program document. See example.\n",
    ">  4. Create branches off the main program for each group member, and assign part of the program to each member.\n",
    ">  5. Each member should work on their branch.\n",
    ">  6. When each member is finished, merge the branches back into the main program. You may use 'merge' or 'pull requests', your choice.\n",
    ">  7. iterate and debug as necessary."
   ]
  },
  {
   "cell_type": "markdown",
   "id": "71b8f18e-607a-4c94-81a3-ebbc488ba8c6",
   "metadata": {},
   "source": [
    "#### Working with HTML\n",
    "> Since this is a course on python, not HTML, you are not expected to know HTML. Therefore, you may copy applicable portions of the sample code or use AI to write the HTML portions of your application. Ypu should write the main python code yourself.\n"
   ]
  },
  {
   "cell_type": "markdown",
   "id": "fc336368-4292-42af-aa60-06b27ff6b303",
   "metadata": {
    "jp-MarkdownHeadingCollapsed": true
   },
   "source": [
    "#### What you need to turn in\n",
    ">  This is a group project. There will be one submission per group. Your submission will be graded as a group.\n",
    ">  1. Include your group number and the names of all group members in the signature block at the top of this notebook.\n",
    ">  2. In the cell below, paste the link to your project repository. One link per group. The grader will review the activity and history provided by GitHub. To add a hyperlink to a Jupyter markdown cell, follow the instructions in the cell below.\n",
    ">  3. Below the GitHub Repository Link cell is a code cell. Copy and paste your final program code into this cell."
   ]
  },
  {
   "cell_type": "markdown",
   "id": "3ece03e6-a41f-484d-8417-d8c4e156b2c0",
   "metadata": {},
   "source": [
    "#### GitHub Repository Link\n",
    "> Example: [INST326_Fall2024/Projects/Project03](https://github.com/sdempwolf/INST326_Fall_2024/tree/main/Projects/Project03)\n",
    ">\n",
    "> Edit the link code below with your information, then run this cell. Test the link! It should take you to your GitHub project repository.\n",
    "> [GitHub Project03 Group 43 Repository](https://github.com/KizukaShiori/INST326)"
   ]
  },
  {
   "cell_type": "code",
   "execution_count": null,
   "id": "cb35b908-6683-4144-816c-051715925504",
   "metadata": {},
   "outputs": [],
   "source": [
    "from abc import ABC, abstractmethod\n",
    "import random\n",
    "import calendar\n",
    "\n",
    "class Caregiver:\n",
    "    def init(self, name, phone, email, pay_rate=20, hours=0, availability=None):\n",
    "        self.name = name\n",
    "        self.phone = phone\n",
    "        self.email = email\n",
    "        self.pay_rate = pay_rate\n",
    "        self.hours = hours\n",
    "        self.availability = availability if availability else {'AM': 'availability', 'PM': 'available'}\n",
    "\n",
    "    def set_availability(self, shift, status):\n",
    "        self.availability[shift] = status\n",
    "\n",
    "    def get_availability(self, shift):\n",
    "        return self.availability.get(shift, 'unavailable')\n",
    "\n",
    "    def add_hours(self, hours):\n",
    "        self.hours += hours\n",
    "\n",
    "    def calculate_weekly_pay(self):\n",
    "        return self.hours * self.pay_rate\n",
    "\n",
    "    def str(self):\n",
    "        return f\"Caregiver: {self.name}, Phone: {self.phone}, Email: {self.email}, Pay Rate: ${self.pay_rate}/hr, Hours: {self.hours}\"\n",
    "\n",
    "class PaidCaregiver(Caregiver):\n",
    "    def init(self, name, phone, email, pay_rate=20, hours=0, availability=None):\n",
    "        super().init(name, phone, email, pay_rate, hours, availability)\n",
    "\n",
    "class Schedule:\n",
    "    def init(self):\n",
    "        self.caregivers = []\n",
    "        self.schedule = {}  # Store the schedule\n",
    "\n",
    "    def add_caregiver(self, caregiver):\n",
    "        self.caregivers.append(caregiver)\n",
    "\n",
    "    def create_schedule(self, month, year):\n",
    "        cal = calendar.HTMLCalendar(calendar.SUNDAY)\n",
    "        schedule = cal.formatmonth(year, month)\n",
    "        return schedule\n",
    "\n",
    "    def assign_shifts(self):\n",
    "        for day in range(1, 32):\n",
    "            self.schedule[day] = {}\n",
    "            for shift in ['AM', 'PM']:\n",
    "                available_caregivers = [caregiver for caregiver in self.caregivers if caregiver.get_availability(shift) in ['preferred', 'available']]\n",
    "                if available_caregivers:\n",
    "                    selected_caregiver = random.choice(available_caregivers)\n",
    "                    self.schedule[day][shift] = selected_caregiver.name\n",
    "                    selected_caregiver.add_hours(6)\n",
    "\n",
    "    def display_schedule(self):\n",
    "        for day in range(1, 32):\n",
    "            if day in self.schedule:\n",
    "                print(f\"Day {day}:\")\n",
    "                for shift, caregiver_name in self.schedule[day].items():\n",
    "                    print(f\"  {shift}: {caregiver_name}\")\n",
    "            else:\n",
    "                print(f\"Day {day}: No Caregiver Assigned\")\n",
    "\n",
    "    def generate_pay_report(self):\n",
    "        report = \"Pay Report\\n\"\n",
    "        total_weekly_pay = 0\n",
    "        total_monthly_pay = 0\n",
    "\n",
    "        for caregiver in self.caregivers:\n",
    "            weekly_pay = caregiver.calculate_weekly_pay()\n",
    "            report += f\"{caregiver.name}: ${weekly_pay:.2f}\\n\"\n",
    "            total_weekly_pay += weekly_pay\n",
    "\n",
    "        total_monthly_pay = total_weekly_pay * 4\n",
    "        report += f\"Total Weekly Pay: ${total_weekly_pay:.2f}\\n\"\n",
    "        report += f\"Total Monthly Pay: ${total_monthly_pay:.2f}\\n\"\n",
    "\n",
    "        # Save the report to a txt file\n",
    "        with open(\"pay_report.txt\", \"w\") as file:\n",
    "            file.write(report)\n",
    "\n",
    "        return report\n",
    "\n",
    "    def create_schedule(self, month, year):\n",
    "        # Create an HTML calendar for the month\n",
    "        cal = calendar.HTMLCalendar(calendar.SUNDAY)\n",
    "        # Generate basic HTML Calendar for the month\n",
    "        html_calendar = cal.formatmonth(year, month)\n",
    "\n",
    "        # Start a custom HTML table to display caregivers' schedules\n",
    "        schedule_html = f\"<h2>Caregiver Schedule for {calendar.month_name[month]} {year}<h2>\"\n",
    "        schedule_html += \"<table border='1' cellpadding='5' cellspacing='0'>\"\n",
    "        schedule_html += \"<tr><th>Sun</th><th>Mon</th><th>Tue</th><th>Wed</th><th>Thu</th><th>Fri</th><th>Sat</th></tr>\"\n",
    "\n",
    "        # Get number of days in the month\n",
    "        _, num_days = calendar.monthrange(year, month)\n",
    "\n",
    "\n",
    "        # Loop through weeks in the year (4 or 5 weeks typically)\n",
    "        for week in cal.monthdayscalendar(year, month):\n",
    "            schedule_html += \"<tr>\"\n",
    "\n",
    "            # Loop through each day in the week (7 days)\n",
    "            for day in week:\n",
    "                if day == 0:\n",
    "                    # Skip days outside of current month (i.e., days with value 0)\n",
    "                    schedule_html += \"<td></td>\"\n",
    "                else:\n",
    "                    schedule_html += f\"<td valign='top'>\"\n",
    "                    \n",
    "                    # Add the day number (e.g., 1, 2, 3, ...)\n",
    "                    schedule_html += f\"<strong>{day}</strong><br>\"\n",
    "\n",
    "                    # Check if this day has a schedule entry\n",
    "                    if day in self.schedule:\n",
    "                        shift_info = self.schedule[day]\n",
    "                        am_caregiver = shift_info.get('AM', 'No Caregiver')\n",
    "                        pm_caregiver = shift_info.get('PM', 'No Caregiver')\n",
    "\n",
    "                        # Display AM and PM caregiver assignments\n",
    "                        schedule_html += f\"<b>AM:</b> {am_caregiver}<br>\"\n",
    "                        schedule_html += f\"<b>PM:</b> {pm_caregiver}\"\n",
    "\n",
    "                    schedule_html += \"</td>\"\n",
    "\n",
    "            schedule_html += \"</tr>\"\n",
    "\n",
    "        schedule_html += \"</table>\"\n",
    "\n",
    "        return schedule_html"
   ]
  },
  {
   "cell_type": "markdown",
   "id": "ec8ddd19-87cd-475d-a07f-7dc8983dc636",
   "metadata": {},
   "source": [
    "### Notebook Instructions\n",
    "> Before turning in your notebook:\n",
    "> 1. Make sure you have renamed the notebook file as instructed\n",
    "> 2. Make sure you have included your signature block and that it is correct according to the instructions\n",
    "> 3. comment your code as necessary\n",
    "> 4. run all code cells and double check that they run correctly. If you can't get your code to run correctly and you want partial credit, add a note for the grader in a new markdown cell directly above your code solution.<br><br>\n",
    "Turn in your notebook by uploading it to ELMS<br>\n",
    "IF the exercises involve saved data files, put your notebook and the data file(s) in a zip folder and upload the zip folder to ELMS"
   ]
  },
  {
   "cell_type": "code",
   "execution_count": null,
   "id": "c2f96be2-9bc0-46ea-98fb-51d8c07c7de8",
   "metadata": {},
   "outputs": [],
   "source": []
  }
 ],
 "metadata": {
  "kernelspec": {
   "display_name": "Python 3",
   "language": "python",
   "name": "python3"
  },
  "language_info": {
   "codemirror_mode": {
    "name": "ipython",
    "version": 3
   },
   "file_extension": ".py",
   "mimetype": "text/x-python",
   "name": "python",
   "nbconvert_exporter": "python",
   "pygments_lexer": "ipython3",
   "version": "3.9.6"
  }
 },
 "nbformat": 4,
 "nbformat_minor": 5
}
