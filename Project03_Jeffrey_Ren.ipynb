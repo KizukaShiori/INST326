{
 "cells": [
  {
   "cell_type": "markdown",
   "id": "cddf5de3-a9f3-4471-bbaf-aca41a70ce89",
   "metadata": {},
   "source": [
    "### INST326 OOP Project 03"
   ]
  },
  {
   "cell_type": "markdown",
   "id": "2bb7f115-9eba-4f29-918e-b016e6a7edc8",
   "metadata": {},
   "source": [
    "Rename this notebook, replacing \"_Assignment\" with \"_YourName\"<br>\n",
    "Insert Signature Block Here"
   ]
  },
  {
   "cell_type": "markdown",
   "id": "8ee05bdb-db2d-41c2-9f23-3af75d058612",
   "metadata": {},
   "source": [
    "### The Project\n",
    "Everyone will do the same project this time. This is a group project, so you must work in your assigned groups. Include the link to your group's GitHub repository (one link per group). Use comments in your code to document your solution. If you need to write comments to the grader, add a markdown cell immediately above your code solution and add your comments there. Be sure to read and follow all the requirements and the Notebook Instructions at the bottom of this notebook. Your grade may depend on it!"
   ]
  },
  {
   "cell_type": "markdown",
   "id": "a1c98e85-2c64-4a03-8309-d91035cca6d2",
   "metadata": {},
   "source": [
    "#### 1. A Scheduling Program\r",
    ">  My wife is responsible for scheduling caregivers for her 93 year-old mother. Currently she writes out the schedule on a monthly calendar and photocopies it for everyone. I want all of you to help me write a program to help her with scheduling. While this is a specific application, this program will be broadly useful and adaptable to any scheduling needs for small businesses, clubs, and more."
   ]
  },
  {
   "cell_type": "markdown",
   "id": "28b28d8a-dbb3-4f15-bbe0-e14504b84876",
   "metadata": {
    "jp-MarkdownHeadingCollapsed": true
   },
   "source": [
    "#### Requirements\n",
    ">  Care is required 12 hours per day, 7 days a week. There are two shifts each day: 7:00 AM - 1:00 PM, and 1:00 PM to 7:00 PM. There are a total of 8 caregivers. Some are family members and some are paid. Each caregiver has their own availability for shifts that is generally the same from month to month, but there are exceptions for work, vacations, and other responsibilities. Your program should do the following:\n",
    "> 1. Manage caregivers and their schedules. Attributes include: name, phone, email, pay rate, and hours.\n",
    "> 2. Each caregiver should have their own availability schedule where they can indicate their availability for each shift. Availability categories are 'preferred', 'available' (default), and 'unavailable'.\n",
    "> 3. Create a care schedule that covers AM and PM shifts and displays caregiver names on a calendar (see example). The schedule should accomodate caregivers' individual schedules and availability preferences. The python calendar module provides options for creating HTML calendars. Sample code for the HTML calendar is in the project folder.\n",
    "> 4. Paid caregivers are paid weekly at $20/hr. Your program should calculate weekly pay based on assigned hours. Provide a separate pay report that lists weekly (gross: hours x rate) amounts to each caregiver, along with weekly and monthly totals. The report can be a text document, or presented in GUI or HTML format. "
   ]
  },
  {
   "cell_type": "markdown",
   "id": "6708f6cf-aac7-430e-947d-6f9c8dd161f6",
   "metadata": {
    "jp-MarkdownHeadingCollapsed": true
   },
   "source": [
    "#### Group Requirements\n",
    ">  1. Your submitted project should follow OOP principles like abstraction, encapsulation, inheritance, and polymorphism as appropriate. Your program should use classes. \n",
    ">  2. Select a group leader who will host the group's project repository on their GitHub.\n",
    ">  3. Create the group repository and add a main program document. See example.\n",
    ">  4. Create branches off the main program for each group member, and assign part of the program to each member.\n",
    ">  5. Each member should work on their branch.\n",
    ">  6. When each member is finished, merge the branches back into the main program. You may use 'merge' or 'pull requests', your choice.\n",
    ">  7. iterate and debug as necessary."
   ]
  },
  {
   "cell_type": "markdown",
   "id": "71b8f18e-607a-4c94-81a3-ebbc488ba8c6",
   "metadata": {},
   "source": [
    "#### Working with HTML\n",
    "> Since this is a course on python, not HTML, you are not expected to know HTML. Therefore, you may copy applicable portions of the sample code or use AI to write the HTML portions of your application. Ypu should write the main python code yourself.\n"
   ]
  },
  {
   "cell_type": "markdown",
   "id": "fc336368-4292-42af-aa60-06b27ff6b303",
   "metadata": {
    "jp-MarkdownHeadingCollapsed": true
   },
   "source": [
    "#### What you need to turn in\n",
    ">  This is a group project. There will be one submission per group. Your submission will be graded as a group.\n",
    ">  1. Include your group number and the names of all group members in the signature block at the top of this notebook.\n",
    ">  2. In the cell below, paste the link to your project repository. One link per group. The grader will review the activity and history provided by GitHub. To add a hyperlink to a Jupyter markdown cell, follow the instructions in the cell below.\n",
    ">  3. Below the GitHub Repository Link cell is a code cell. Copy and paste your final program code into this cell."
   ]
  },
  {
   "cell_type": "markdown",
   "id": "3ece03e6-a41f-484d-8417-d8c4e156b2c0",
   "metadata": {},
   "source": [
    "#### GitHub Repository Link\n",
    "> Example: [INST326_Fall2024/Projects/Project03](https://github.com/sdempwolf/INST326_Fall_2024/tree/main/Projects/Project03)\n",
    ">\n",
    "> Edit the link code below with your information, then run this cell. Test the link! It should take you to your GitHub project repository.\n",
    "> [external link text](http://url_here)"
   ]
  },
  {
   "cell_type": "code",
   "execution_count": 9,
   "id": "cb35b908-6683-4144-816c-051715925504",
   "metadata": {},
   "outputs": [
    {
     "ename": "NameError",
     "evalue": "name 'avilabilty' is not defined",
     "output_type": "error",
     "traceback": [
      "\u001b[0;31m---------------------------------------------------------------------------\u001b[0m",
      "\u001b[0;31mNameError\u001b[0m                                 Traceback (most recent call last)",
      "Cell \u001b[0;32mIn[9], line 55\u001b[0m\n\u001b[1;32m     52\u001b[0m         \u001b[38;5;28;01mreturn\u001b[39;00m report\n\u001b[1;32m     54\u001b[0m \u001b[38;5;66;03m# Make caregivers\u001b[39;00m\n\u001b[0;32m---> 55\u001b[0m caregiver1 \u001b[38;5;241m=\u001b[39m PaidCaregiver(name\u001b[38;5;241m=\u001b[39m\u001b[38;5;124m\"\u001b[39m\u001b[38;5;124mJeffrey\u001b[39m\u001b[38;5;124m\"\u001b[39m, phone\u001b[38;5;241m=\u001b[39m\u001b[38;5;124m\"\u001b[39m\u001b[38;5;124m301-496-9345\u001b[39m\u001b[38;5;124m\"\u001b[39m, email\u001b[38;5;241m=\u001b[39m\u001b[38;5;124m\"\u001b[39m\u001b[38;5;124mjeffrey@gmail.com\u001b[39m\u001b[38;5;124m\"\u001b[39m, pay_rate\u001b[38;5;241m=\u001b[39m\u001b[38;5;241m20\u001b[39m, availability\u001b[38;5;241m=\u001b[39m{\u001b[38;5;124m'\u001b[39m\u001b[38;5;124mAM\u001b[39m\u001b[38;5;124m'\u001b[39m: \u001b[38;5;124m'\u001b[39m\u001b[38;5;124mpreferred\u001b[39m\u001b[38;5;124m'\u001b[39m, \u001b[38;5;124m'\u001b[39m\u001b[38;5;124mPM\u001b[39m\u001b[38;5;124m'\u001b[39m: \u001b[38;5;124m'\u001b[39m\u001b[38;5;124munavailable\u001b[39m\u001b[38;5;124m'\u001b[39m})\n\u001b[1;32m     56\u001b[0m caregiver2 \u001b[38;5;241m=\u001b[39m PaidCaregiver(name\u001b[38;5;241m=\u001b[39m\u001b[38;5;124m\"\u001b[39m\u001b[38;5;124mBrian\u001b[39m\u001b[38;5;124m\"\u001b[39m, phone\u001b[38;5;241m=\u001b[39m\u001b[38;5;124m\"\u001b[39m\u001b[38;5;124m204-547-8901\u001b[39m\u001b[38;5;124m\"\u001b[39m, email\u001b[38;5;241m=\u001b[39m\u001b[38;5;124m\"\u001b[39m\u001b[38;5;124mbrian@gmail.com\u001b[39m\u001b[38;5;124m\"\u001b[39m, pay_rate\u001b[38;5;241m=\u001b[39m\u001b[38;5;241m20\u001b[39m, availability\u001b[38;5;241m=\u001b[39m{\u001b[38;5;124m'\u001b[39m\u001b[38;5;124mAM\u001b[39m\u001b[38;5;124m'\u001b[39m: \u001b[38;5;124m'\u001b[39m\u001b[38;5;124mavailable\u001b[39m\u001b[38;5;124m'\u001b[39m, \u001b[38;5;124m'\u001b[39m\u001b[38;5;124mPM\u001b[39m\u001b[38;5;124m'\u001b[39m: \u001b[38;5;124m'\u001b[39m\u001b[38;5;124mpreferred\u001b[39m\u001b[38;5;124m'\u001b[39m})\n\u001b[1;32m     57\u001b[0m caregiver3 \u001b[38;5;241m=\u001b[39m PaidCaregiver(name\u001b[38;5;241m=\u001b[39m\u001b[38;5;124m\"\u001b[39m\u001b[38;5;124mBren\u001b[39m\u001b[38;5;124m\"\u001b[39m, phone\u001b[38;5;241m=\u001b[39m\u001b[38;5;124m\"\u001b[39m\u001b[38;5;124m305-618-9012\u001b[39m\u001b[38;5;124m\"\u001b[39m, email\u001b[38;5;241m=\u001b[39m\u001b[38;5;124m\"\u001b[39m\u001b[38;5;124mbren@gmail.com\u001b[39m\u001b[38;5;124m\"\u001b[39m, pay_rate\u001b[38;5;241m=\u001b[39m\u001b[38;5;241m20\u001b[39m, availability\u001b[38;5;241m=\u001b[39m{\u001b[38;5;124m'\u001b[39m\u001b[38;5;124mAM\u001b[39m\u001b[38;5;124m'\u001b[39m: \u001b[38;5;124m'\u001b[39m\u001b[38;5;124mpreferred\u001b[39m\u001b[38;5;124m'\u001b[39m, \u001b[38;5;124m'\u001b[39m\u001b[38;5;124mPM\u001b[39m\u001b[38;5;124m'\u001b[39m: \u001b[38;5;124m'\u001b[39m\u001b[38;5;124mavailable\u001b[39m\u001b[38;5;124m'\u001b[39m})\n",
      "Cell \u001b[0;32mIn[7], line 34\u001b[0m, in \u001b[0;36mPaidCaregiver.__init__\u001b[0;34m(self, name, phone, email, pay_rate, hours, availability)\u001b[0m\n\u001b[1;32m     33\u001b[0m \u001b[38;5;28;01mdef\u001b[39;00m \u001b[38;5;21m__init__\u001b[39m(\u001b[38;5;28mself\u001b[39m, name, phone, email, pay_rate \u001b[38;5;241m=\u001b[39m \u001b[38;5;241m20\u001b[39m, hours \u001b[38;5;241m=\u001b[39m \u001b[38;5;241m0\u001b[39m, availability \u001b[38;5;241m=\u001b[39m \u001b[38;5;28;01mNone\u001b[39;00m):\n\u001b[0;32m---> 34\u001b[0m     \u001b[38;5;28msuper\u001b[39m()\u001b[38;5;241m.\u001b[39m\u001b[38;5;21m__init__\u001b[39m(name, phone, email, pay_rate, hours, availability)\n",
      "Cell \u001b[0;32mIn[7], line 11\u001b[0m, in \u001b[0;36mCaregiver.__init__\u001b[0;34m(self, name, phone, email, pay_rate, hours, availability)\u001b[0m\n\u001b[1;32m      9\u001b[0m \u001b[38;5;28mself\u001b[39m\u001b[38;5;241m.\u001b[39mpay_rate \u001b[38;5;241m=\u001b[39m pay_rate\n\u001b[1;32m     10\u001b[0m \u001b[38;5;28mself\u001b[39m\u001b[38;5;241m.\u001b[39mhours \u001b[38;5;241m=\u001b[39m hours\n\u001b[0;32m---> 11\u001b[0m \u001b[38;5;28mself\u001b[39m\u001b[38;5;241m.\u001b[39mavailability \u001b[38;5;241m=\u001b[39m availabilty \u001b[38;5;28;01mif\u001b[39;00m avilabilty \u001b[38;5;28;01melse\u001b[39;00m {\u001b[38;5;124m'\u001b[39m\u001b[38;5;124mAM\u001b[39m\u001b[38;5;124m'\u001b[39m: \u001b[38;5;124m'\u001b[39m\u001b[38;5;124mavailability\u001b[39m\u001b[38;5;124m'\u001b[39m, \u001b[38;5;124m'\u001b[39m\u001b[38;5;124mPM\u001b[39m\u001b[38;5;124m'\u001b[39m: \u001b[38;5;124m'\u001b[39m\u001b[38;5;124mavailable\u001b[39m\u001b[38;5;124m'\u001b[39m}\n",
      "\u001b[0;31mNameError\u001b[0m: name 'avilabilty' is not defined"
     ]
    }
   ],
   "source": [
    "# Solution - enter your code solution below\n",
    "# Schedule class\n",
    "class Schedule:\n",
    "    def __init__(self):\n",
    "        self.caregivers = []\n",
    "        self.schedule = {}  # Store the schedule\n",
    "\n",
    "    def add_caregiver(self, caregiver):\n",
    "        self.caregivers.append(caregiver)\n",
    "\n",
    "    def create_schedule(self, month, year):\n",
    "        cal = calendar.HTMLCalendar(calendar.SUNDAY)\n",
    "        schedule = cal.formatmonth(year, month)\n",
    "        return schedule\n",
    "\n",
    "    #assign shifts with preferred priority, otherwise random based on availability.\n",
    "    def assign_shifts(self):\n",
    "        for day in range(1, 32):\n",
    "            self.schedule[day] = {}\n",
    "            for shift in ['AM', 'PM']:\n",
    "                available_caregivers = [caregiver for caregiver in self.caregivers if caregiver.get_availability(shift) in ['preferred', 'available']]\n",
    "                \n",
    "                # Prioritize preferred\n",
    "                preferred_caregivers = [caregiver for caregiver in available_caregivers if caregiver.get_availability(shift) == 'preferred']\n",
    "                \n",
    "                if preferred_caregivers:\n",
    "                    selected_caregiver = random.choice(preferred_caregivers)\n",
    "                else:\n",
    "                    selected_caregiver = random.choice(available_caregivers)\n",
    "\n",
    "                self.schedule[day][shift] = selected_caregiver.name\n",
    "                selected_caregiver.add_hours(6)\n",
    "        \n",
    "    def display_schedule(self):\n",
    "        # Print the schedule\n",
    "        for day in range(1, 32):\n",
    "            if day in self.schedule:\n",
    "                print(f\"Day {day}:\")\n",
    "                for shift, caregiver_name in self.schedule[day].items():\n",
    "                    print(f\"  {shift}: {caregiver_name}\")\n",
    "            else:\n",
    "                print(f\"Day {day}: No Caregiver Assigned\")\n",
    "\n",
    "    def generate_pay_report(self):\n",
    "        report = \"Weekly Pay Report\\n\"\n",
    "        total_weekly_pay = 0\n",
    "        for caregiver in self.caregivers:\n",
    "            weekly_pay = caregiver.calculate_weekly_pay()\n",
    "            report += f\"{caregiver.name}: ${weekly_pay}\\n\"\n",
    "            total_weekly_pay += weekly_pay\n",
    "        report += f\"Total Weekly Pay: ${total_weekly_pay}\\n\"\n",
    "        return report\n",
    "\n",
    "# Make caregivers\n",
    "caregiver1 = PaidCaregiver(name=\"Jeffrey\", phone=\"301-496-9345\", email=\"jeffrey@gmail.com\", pay_rate=20, availability={'AM': 'preferred', 'PM': 'unavailable'})\n",
    "caregiver2 = PaidCaregiver(name=\"Brian\", phone=\"204-547-8901\", email=\"brian@gmail.com\", pay_rate=20, availability={'AM': 'available', 'PM': 'preferred'})\n",
    "caregiver3 = PaidCaregiver(name=\"Bren\", phone=\"305-618-9012\", email=\"bren@gmail.com\", pay_rate=20, availability={'AM': 'preferred', 'PM': 'available'})\n",
    "caregiver4 = PaidCaregiver(name=\"Ashley\", phone=\"406-719-0823\", email=\"Ashley@gmail.com\", pay_rate=20, availability={'AM': 'unavailable', 'PM': 'preferred'})\n",
    "\n",
    "caregiver5 = FamilyCaregiver(name=\"Steph\", phone=\"207-890-1536\", email=\"steph@gmail.com\", availability={'AM': 'available', 'PM': 'preferred'})\n",
    "caregiver6 = FamilyCaregiver(name=\"Lebron\", phone=\"308-901-2375\", email=\"lebron@gmail.com\", availability={'AM': 'preferred', 'PM': 'available'})\n",
    "caregiver7 = FamilyCaregiver(name=\"Grace\", phone=\"209-011-3496\", email=\"grace@gmail.com\", availability={'AM': 'preferred', 'PM': 'available'})\n",
    "caregiver8 = FamilyCaregiver(name=\"Hannah\", phone=\"406-163-4547\", email=\"hannah@gmail.com\", availability={'AM': 'preferred', 'PM': 'available'})\n",
    "\n",
    "\n",
    "schedule = Schedule()\n",
    "schedule.add_caregiver(caregiver1)\n",
    "schedule.add_caregiver(caregiver2)\n",
    "schedule.add_caregiver(caregiver3)\n",
    "schedule.add_caregiver(caregiver4)\n",
    "schedule.add_caregiver(caregiver5)\n",
    "schedule.add_caregiver(caregiver6)\n",
    "schedule.add_caregiver(caregiver7)\n",
    "schedule.add_caregiver(caregiver8)\n",
    "\n",
    "schedule.assign_shifts()\n",
    "\n",
    "schedule.display_schedule()\n",
    "\n",
    "print(schedule.generate_pay_report())"
   ]
  },
  {
   "cell_type": "markdown",
   "id": "ec8ddd19-87cd-475d-a07f-7dc8983dc636",
   "metadata": {},
   "source": [
    "### Notebook Instructions\n",
    "> Before turning in your notebook:\n",
    "> 1. Make sure you have renamed the notebook file as instructed\n",
    "> 2. Make sure you have included your signature block and that it is correct according to the instructions\n",
    "> 3. comment your code as necessary\n",
    "> 4. run all code cells and double check that they run correctly. If you can't get your code to run correctly and you want partial credit, add a note for the grader in a new markdown cell directly above your code solution.<br><br>\n",
    "Turn in your notebook by uploading it to ELMS<br>\n",
    "IF the exercises involve saved data files, put your notebook and the data file(s) in a zip folder and upload the zip folder to ELMS"
   ]
  },
  {
   "cell_type": "code",
   "execution_count": null,
   "id": "c2f96be2-9bc0-46ea-98fb-51d8c07c7de8",
   "metadata": {},
   "outputs": [],
   "source": []
  }
 ],
 "metadata": {
  "kernelspec": {
   "display_name": "Python 3 (ipykernel)",
   "language": "python",
   "name": "python3"
  },
  "language_info": {
   "codemirror_mode": {
    "name": "ipython",
    "version": 3
   },
   "file_extension": ".py",
   "mimetype": "text/x-python",
   "name": "python",
   "nbconvert_exporter": "python",
   "pygments_lexer": "ipython3",
   "version": "3.12.4"
  }
 },
 "nbformat": 4,
 "nbformat_minor": 5
}
